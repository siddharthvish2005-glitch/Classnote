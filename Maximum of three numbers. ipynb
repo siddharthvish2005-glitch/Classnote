# Input three numbers
a = 10
b = 20
c = 15

# Find the maximum using ternary operator
max_num = a if (a > b and a > c) else (b if b > c else c)

print(f"The maximum number is: {max_num}")
